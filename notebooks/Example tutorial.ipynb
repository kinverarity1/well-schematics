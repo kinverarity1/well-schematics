{
 "cells": [
  {
   "cell_type": "code",
   "execution_count": 1,
   "id": "53b59d85",
   "metadata": {},
   "outputs": [],
   "source": [
    "import well_schematics as ws"
   ]
  },
  {
   "cell_type": "code",
   "execution_count": 9,
   "id": "212f99dc",
   "metadata": {},
   "outputs": [
    {
     "data": {
      "text/plain": [
       "[<matplotlib.patches.Rectangle at 0x2ab0ae93ac0>,\n",
       " <matplotlib.patches.Rectangle at 0x2ab0ae93b20>,\n",
       " <matplotlib.patches.Rectangle at 0x2ab0ae93b80>,\n",
       " <matplotlib.patches.Rectangle at 0x2ab0ae93bb0>,\n",
       " <matplotlib.patches.Rectangle at 0x2ab0ae93be0>,\n",
       " <matplotlib.patches.Rectangle at 0x2ab0ae93ca0>]"
      ]
     },
     "execution_count": 9,
     "metadata": {},
     "output_type": "execute_result"
    },
    {
     "data": {
      "image/png": "[encoded data removed]",
      "text/plain": [
       "<Figure size 100x500 with 1 Axes>"
      ]
     },
     "metadata": {},
     "output_type": "display_data"
    }
   ],
   "source": [
    "ws.plot_single_diameter_well([\n",
    "    {\"type\": \"casing\", \"top\": 0, \"bottom\": 72},\n",
    "    {\"type\": \"slotted casing\", \"top\": 72, \"bottom\": 85},\n",
    "    {\"type\": \"sump\", \"top\": 85, \"bottom\": 89}, \n",
    "], pipe_width=0.11,)"
   ]
  },
  {
   "cell_type": "code",
   "execution_count": 3,
   "id": "4694dc59",
   "metadata": {},
   "outputs": [
    {
     "data": {
      "text/plain": [
       "[<matplotlib.patches.Rectangle at 0x2ab0aca00d0>,\n",
       " <matplotlib.patches.Rectangle at 0x2ab0aca0130>,\n",
       " <matplotlib.patches.Rectangle at 0x2ab0aca0190>,\n",
       " <matplotlib.patches.Rectangle at 0x2ab0aca01c0>,\n",
       " <matplotlib.patches.Rectangle at 0x2ab0aca01f0>,\n",
       " <matplotlib.patches.Rectangle at 0x2ab0aca02b0>]"
      ]
     },
     "execution_count": 3,
     "metadata": {},
     "output_type": "execute_result"
    },
    {
     "data": {
      "image/png": "[encoded data removed]",
      "text/plain": [
       "<Figure size 100x500 with 1 Axes>"
      ]
     },
     "metadata": {},
     "output_type": "display_data"
    }
   ],
   "source": [
    "ws.plot_single_diameter_well([\n",
    "    {\"type\": \"casing\", \"top\": 0, \"bottom\": 72},\n",
    "    {\"type\": \"screen\", \"top\": 72, \"bottom\": 85},\n",
    "    {\"type\": \"sump\", \"top\": 85, \"bottom\": 89}\n",
    "], )"
   ]
  },
  {
   "cell_type": "code",
   "execution_count": 4,
   "id": "cfa027ce",
   "metadata": {},
   "outputs": [
    {
     "data": {
      "text/plain": [
       "[<matplotlib.patches.Rectangle at 0x2ab0acf0f70>,\n",
       " <matplotlib.patches.Rectangle at 0x2ab0acf0fd0>,\n",
       " <matplotlib.patches.Rectangle at 0x2ab0acf1030>,\n",
       " <matplotlib.patches.Rectangle at 0x2ab0acf1060>]"
      ]
     },
     "execution_count": 4,
     "metadata": {},
     "output_type": "execute_result"
    },
    {
     "data": {
      "image/png": "[encoded data removed]",
      "text/plain": [
       "<Figure size 100x500 with 1 Axes>"
      ]
     },
     "metadata": {},
     "output_type": "display_data"
    }
   ],
   "source": [
    "ws.plot_single_diameter_well([\n",
    "    {\"type\": \"casing\", \"top\": 0, \"bottom\": 72},\n",
    "    {\"type\": \"open hole\", \"top\": 72, \"bottom\": 85},\n",
    "], )"
   ]
  },
  {
   "cell_type": "code",
   "execution_count": null,
   "id": "40ae5147",
   "metadata": {},
   "outputs": [],
   "source": []
  },
  {
   "cell_type": "code",
   "execution_count": null,
   "id": "bcf23b4d",
   "metadata": {},
   "outputs": [],
   "source": []
  }
 ],
 "metadata": {
  "kernelspec": {
   "display_name": "Python 3 (ipykernel)",
   "language": "python",
   "name": "python3"
  },
  "language_info": {
   "codemirror_mode": {
    "name": "ipython",
    "version": 3
   },
   "file_extension": ".py",
   "mimetype": "text/x-python",
   "name": "python",
   "nbconvert_exporter": "python",
   "pygments_lexer": "ipython3",
   "version": "3.10.10"
  }
 },
 "nbformat": 4,
 "nbformat_minor": 5
}
